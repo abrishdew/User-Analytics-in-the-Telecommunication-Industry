{
 "cells": [
  {
   "cell_type": "code",
   "execution_count": 49,
   "metadata": {},
   "outputs": [],
   "source": [
    "import pandas as pd\n",
    "import pandas.io.sql as sqilo\n",
    "from sqlalchemy import create_engine\n",
    "import psycopg2\n",
    "from psycopg2 import sql\n",
    "\n",
    "database_name = 'telecom'\n",
    "table_name= 'xdr_data'\n",
    "connection_params = { \"host\": \"localhost\", \"user\": \"postgres\", \"password\": \"123\",\n",
    "\"port\": \"5432\", \"database\": database_name}\n",
    "engine = create_engine(f\"postgresql+psycopg2://{connection_params['user']}:{connection_params['password']}@{connection_params['host']}:{connection_params['port']}/{connection_params['database']}\")\n",
    "# str or SQLAlchemy Selectable (select or text object)\n",
    "sql_query = 'SELECT * FROM xdr_data Limit 5'\n",
    "df = pd.read_sql(sql_query, con= engine)\n"
   ]
  },
  {
   "cell_type": "code",
   "execution_count": 50,
   "metadata": {},
   "outputs": [
    {
     "name": "stdout",
     "output_type": "stream",
     "text": [
      "<class 'pandas.core.frame.DataFrame'>\n",
      "RangeIndex: 5 entries, 0 to 4\n",
      "Data columns (total 55 columns):\n",
      " #   Column                                    Non-Null Count  Dtype  \n",
      "---  ------                                    --------------  -----  \n",
      " 0   Bearer Id                                 5 non-null      float64\n",
      " 1   Start                                     5 non-null      object \n",
      " 2   Start ms                                  5 non-null      float64\n",
      " 3   End                                       5 non-null      object \n",
      " 4   End ms                                    5 non-null      float64\n",
      " 5   Dur. (ms)                                 5 non-null      float64\n",
      " 6   IMSI                                      5 non-null      float64\n",
      " 7   MSISDN/Number                             5 non-null      float64\n",
      " 8   IMEI                                      5 non-null      float64\n",
      " 9   Last Location Name                        5 non-null      object \n",
      " 10  Avg RTT DL (ms)                           2 non-null      float64\n",
      " 11  Avg RTT UL (ms)                           2 non-null      float64\n",
      " 12  Avg Bearer TP DL (kbps)                   5 non-null      float64\n",
      " 13  Avg Bearer TP UL (kbps)                   5 non-null      float64\n",
      " 14  TCP DL Retrans. Vol (Bytes)               0 non-null      object \n",
      " 15  TCP UL Retrans. Vol (Bytes)               0 non-null      object \n",
      " 16  DL TP < 50 Kbps (%)                       5 non-null      float64\n",
      " 17  50 Kbps < DL TP < 250 Kbps (%)            5 non-null      float64\n",
      " 18  250 Kbps < DL TP < 1 Mbps (%)             5 non-null      float64\n",
      " 19  DL TP > 1 Mbps (%)                        5 non-null      float64\n",
      " 20  UL TP < 10 Kbps (%)                       5 non-null      float64\n",
      " 21  10 Kbps < UL TP < 50 Kbps (%)             5 non-null      float64\n",
      " 22  50 Kbps < UL TP < 300 Kbps (%)            5 non-null      float64\n",
      " 23  UL TP > 300 Kbps (%)                      5 non-null      float64\n",
      " 24  HTTP DL (Bytes)                           0 non-null      object \n",
      " 25  HTTP UL (Bytes)                           0 non-null      object \n",
      " 26  Activity Duration DL (ms)                 5 non-null      float64\n",
      " 27  Activity Duration UL (ms)                 5 non-null      float64\n",
      " 28  Dur. (ms).1                               5 non-null      float64\n",
      " 29  Handset Manufacturer                      5 non-null      object \n",
      " 30  Handset Type                              5 non-null      object \n",
      " 31  Nb of sec with 125000B < Vol DL           0 non-null      object \n",
      " 32  Nb of sec with 1250B < Vol UL < 6250B     0 non-null      object \n",
      " 33  Nb of sec with 31250B < Vol DL < 125000B  0 non-null      object \n",
      " 34  Nb of sec with 37500B < Vol UL            0 non-null      object \n",
      " 35  Nb of sec with 6250B < Vol DL < 31250B    0 non-null      object \n",
      " 36  Nb of sec with 6250B < Vol UL < 37500B    0 non-null      object \n",
      " 37  Nb of sec with Vol DL < 6250B             5 non-null      float64\n",
      " 38  Nb of sec with Vol UL < 1250B             5 non-null      float64\n",
      " 39  Social Media DL (Bytes)                   5 non-null      float64\n",
      " 40  Social Media UL (Bytes)                   5 non-null      float64\n",
      " 41  Google DL (Bytes)                         5 non-null      float64\n",
      " 42  Google UL (Bytes)                         5 non-null      float64\n",
      " 43  Email DL (Bytes)                          5 non-null      float64\n",
      " 44  Email UL (Bytes)                          5 non-null      float64\n",
      " 45  Youtube DL (Bytes)                        5 non-null      float64\n",
      " 46  Youtube UL (Bytes)                        5 non-null      float64\n",
      " 47  Netflix DL (Bytes)                        5 non-null      float64\n",
      " 48  Netflix UL (Bytes)                        5 non-null      float64\n",
      " 49  Gaming DL (Bytes)                         5 non-null      float64\n",
      " 50  Gaming UL (Bytes)                         5 non-null      float64\n",
      " 51  Other DL (Bytes)                          5 non-null      float64\n",
      " 52  Other UL (Bytes)                          5 non-null      float64\n",
      " 53  Total UL (Bytes)                          5 non-null      float64\n",
      " 54  Total DL (Bytes)                          5 non-null      float64\n",
      "dtypes: float64(40), object(15)\n",
      "memory usage: 2.3+ KB\n"
     ]
    }
   ],
   "source": [
    "df.info()"
   ]
  },
  {
   "cell_type": "code",
   "execution_count": 51,
   "metadata": {},
   "outputs": [
    {
     "data": {
      "text/html": [
       "<div>\n",
       "<style scoped>\n",
       "    .dataframe tbody tr th:only-of-type {\n",
       "        vertical-align: middle;\n",
       "    }\n",
       "\n",
       "    .dataframe tbody tr th {\n",
       "        vertical-align: top;\n",
       "    }\n",
       "\n",
       "    .dataframe thead th {\n",
       "        text-align: right;\n",
       "    }\n",
       "</style>\n",
       "<table border=\"1\" class=\"dataframe\">\n",
       "  <thead>\n",
       "    <tr style=\"text-align: right;\">\n",
       "      <th></th>\n",
       "      <th>Bearer Id</th>\n",
       "      <th>Start</th>\n",
       "      <th>Start ms</th>\n",
       "      <th>End</th>\n",
       "      <th>End ms</th>\n",
       "      <th>Dur. (ms)</th>\n",
       "      <th>IMSI</th>\n",
       "      <th>MSISDN/Number</th>\n",
       "      <th>IMEI</th>\n",
       "      <th>Last Location Name</th>\n",
       "      <th>...</th>\n",
       "      <th>Youtube DL (Bytes)</th>\n",
       "      <th>Youtube UL (Bytes)</th>\n",
       "      <th>Netflix DL (Bytes)</th>\n",
       "      <th>Netflix UL (Bytes)</th>\n",
       "      <th>Gaming DL (Bytes)</th>\n",
       "      <th>Gaming UL (Bytes)</th>\n",
       "      <th>Other DL (Bytes)</th>\n",
       "      <th>Other UL (Bytes)</th>\n",
       "      <th>Total UL (Bytes)</th>\n",
       "      <th>Total DL (Bytes)</th>\n",
       "    </tr>\n",
       "  </thead>\n",
       "  <tbody>\n",
       "    <tr>\n",
       "      <th>0</th>\n",
       "      <td>1.311448e+19</td>\n",
       "      <td>4/4/2019 12:01</td>\n",
       "      <td>770.0</td>\n",
       "      <td>4/25/2019 14:35</td>\n",
       "      <td>662.0</td>\n",
       "      <td>1823652.0</td>\n",
       "      <td>2.082014e+14</td>\n",
       "      <td>3.366496e+10</td>\n",
       "      <td>3.552121e+13</td>\n",
       "      <td>9.16456699548519E+015</td>\n",
       "      <td>...</td>\n",
       "      <td>15854611.0</td>\n",
       "      <td>2501332.0</td>\n",
       "      <td>8198936.0</td>\n",
       "      <td>9656251.0</td>\n",
       "      <td>278082303.0</td>\n",
       "      <td>14344150.0</td>\n",
       "      <td>171744450.0</td>\n",
       "      <td>8814393.0</td>\n",
       "      <td>36749741.0</td>\n",
       "      <td>308879636.0</td>\n",
       "    </tr>\n",
       "    <tr>\n",
       "      <th>1</th>\n",
       "      <td>1.311448e+19</td>\n",
       "      <td>4/9/2019 13:04</td>\n",
       "      <td>235.0</td>\n",
       "      <td>4/25/2019 8:15</td>\n",
       "      <td>606.0</td>\n",
       "      <td>1365104.0</td>\n",
       "      <td>2.082019e+14</td>\n",
       "      <td>3.368185e+10</td>\n",
       "      <td>3.579401e+13</td>\n",
       "      <td>L77566A</td>\n",
       "      <td>...</td>\n",
       "      <td>20247395.0</td>\n",
       "      <td>19111729.0</td>\n",
       "      <td>18338413.0</td>\n",
       "      <td>17227132.0</td>\n",
       "      <td>608750074.0</td>\n",
       "      <td>1170709.0</td>\n",
       "      <td>526904238.0</td>\n",
       "      <td>15055145.0</td>\n",
       "      <td>53800391.0</td>\n",
       "      <td>653384965.0</td>\n",
       "    </tr>\n",
       "    <tr>\n",
       "      <th>2</th>\n",
       "      <td>1.311448e+19</td>\n",
       "      <td>4/9/2019 17:42</td>\n",
       "      <td>1.0</td>\n",
       "      <td>4/25/2019 11:58</td>\n",
       "      <td>652.0</td>\n",
       "      <td>1361762.0</td>\n",
       "      <td>2.082003e+14</td>\n",
       "      <td>3.376063e+10</td>\n",
       "      <td>3.528151e+13</td>\n",
       "      <td>D42335A</td>\n",
       "      <td>...</td>\n",
       "      <td>19725661.0</td>\n",
       "      <td>14699576.0</td>\n",
       "      <td>17587794.0</td>\n",
       "      <td>6163408.0</td>\n",
       "      <td>229584621.0</td>\n",
       "      <td>395630.0</td>\n",
       "      <td>410692588.0</td>\n",
       "      <td>4215763.0</td>\n",
       "      <td>27883638.0</td>\n",
       "      <td>279807335.0</td>\n",
       "    </tr>\n",
       "    <tr>\n",
       "      <th>3</th>\n",
       "      <td>1.311448e+19</td>\n",
       "      <td>4/10/2019 0:31</td>\n",
       "      <td>486.0</td>\n",
       "      <td>4/25/2019 7:36</td>\n",
       "      <td>171.0</td>\n",
       "      <td>1321509.0</td>\n",
       "      <td>2.082014e+14</td>\n",
       "      <td>3.375034e+10</td>\n",
       "      <td>3.535661e+13</td>\n",
       "      <td>T21824A</td>\n",
       "      <td>...</td>\n",
       "      <td>21388122.0</td>\n",
       "      <td>15146643.0</td>\n",
       "      <td>13994646.0</td>\n",
       "      <td>1097942.0</td>\n",
       "      <td>799538153.0</td>\n",
       "      <td>10849722.0</td>\n",
       "      <td>749039933.0</td>\n",
       "      <td>12797283.0</td>\n",
       "      <td>43324218.0</td>\n",
       "      <td>846028530.0</td>\n",
       "    </tr>\n",
       "    <tr>\n",
       "      <th>4</th>\n",
       "      <td>1.311448e+19</td>\n",
       "      <td>4/12/2019 20:10</td>\n",
       "      <td>565.0</td>\n",
       "      <td>4/25/2019 10:40</td>\n",
       "      <td>954.0</td>\n",
       "      <td>1089009.0</td>\n",
       "      <td>2.082014e+14</td>\n",
       "      <td>3.369980e+10</td>\n",
       "      <td>3.540701e+13</td>\n",
       "      <td>D88865A</td>\n",
       "      <td>...</td>\n",
       "      <td>15259380.0</td>\n",
       "      <td>18962873.0</td>\n",
       "      <td>17124581.0</td>\n",
       "      <td>415218.0</td>\n",
       "      <td>527707248.0</td>\n",
       "      <td>3529801.0</td>\n",
       "      <td>550709500.0</td>\n",
       "      <td>13910322.0</td>\n",
       "      <td>38542814.0</td>\n",
       "      <td>569138589.0</td>\n",
       "    </tr>\n",
       "  </tbody>\n",
       "</table>\n",
       "<p>5 rows × 55 columns</p>\n",
       "</div>"
      ],
      "text/plain": [
       "      Bearer Id            Start  Start ms              End  End ms  \\\n",
       "0  1.311448e+19   4/4/2019 12:01     770.0  4/25/2019 14:35   662.0   \n",
       "1  1.311448e+19   4/9/2019 13:04     235.0   4/25/2019 8:15   606.0   \n",
       "2  1.311448e+19   4/9/2019 17:42       1.0  4/25/2019 11:58   652.0   \n",
       "3  1.311448e+19   4/10/2019 0:31     486.0   4/25/2019 7:36   171.0   \n",
       "4  1.311448e+19  4/12/2019 20:10     565.0  4/25/2019 10:40   954.0   \n",
       "\n",
       "   Dur. (ms)          IMSI  MSISDN/Number          IMEI  \\\n",
       "0  1823652.0  2.082014e+14   3.366496e+10  3.552121e+13   \n",
       "1  1365104.0  2.082019e+14   3.368185e+10  3.579401e+13   \n",
       "2  1361762.0  2.082003e+14   3.376063e+10  3.528151e+13   \n",
       "3  1321509.0  2.082014e+14   3.375034e+10  3.535661e+13   \n",
       "4  1089009.0  2.082014e+14   3.369980e+10  3.540701e+13   \n",
       "\n",
       "      Last Location Name  ...  Youtube DL (Bytes)  Youtube UL (Bytes)  \\\n",
       "0  9.16456699548519E+015  ...          15854611.0           2501332.0   \n",
       "1                L77566A  ...          20247395.0          19111729.0   \n",
       "2                D42335A  ...          19725661.0          14699576.0   \n",
       "3                T21824A  ...          21388122.0          15146643.0   \n",
       "4                D88865A  ...          15259380.0          18962873.0   \n",
       "\n",
       "   Netflix DL (Bytes)  Netflix UL (Bytes) Gaming DL (Bytes) Gaming UL (Bytes)  \\\n",
       "0           8198936.0           9656251.0       278082303.0        14344150.0   \n",
       "1          18338413.0          17227132.0       608750074.0         1170709.0   \n",
       "2          17587794.0           6163408.0       229584621.0          395630.0   \n",
       "3          13994646.0           1097942.0       799538153.0        10849722.0   \n",
       "4          17124581.0            415218.0       527707248.0         3529801.0   \n",
       "\n",
       "   Other DL (Bytes)  Other UL (Bytes)  Total UL (Bytes)  Total DL (Bytes)  \n",
       "0       171744450.0         8814393.0        36749741.0       308879636.0  \n",
       "1       526904238.0        15055145.0        53800391.0       653384965.0  \n",
       "2       410692588.0         4215763.0        27883638.0       279807335.0  \n",
       "3       749039933.0        12797283.0        43324218.0       846028530.0  \n",
       "4       550709500.0        13910322.0        38542814.0       569138589.0  \n",
       "\n",
       "[5 rows x 55 columns]"
      ]
     },
     "execution_count": 51,
     "metadata": {},
     "output_type": "execute_result"
    }
   ],
   "source": [
    "df.head()"
   ]
  },
  {
   "cell_type": "code",
   "execution_count": 52,
   "metadata": {},
   "outputs": [],
   "source": [
    "import pandas as pd\n",
    "import numpy as np\n",
    "from IPython.display import Image\n",
    "import seaborn as sns\n",
    "import matplotlib.pyplot as plt"
   ]
  },
  {
   "cell_type": "code",
   "execution_count": 53,
   "metadata": {},
   "outputs": [],
   "source": [
    "import warnings\n",
    "warnings.filterwarnings('ignore')"
   ]
  },
  {
   "cell_type": "code",
   "execution_count": 54,
   "metadata": {},
   "outputs": [
    {
     "data": {
      "text/html": [
       "<div>\n",
       "<style scoped>\n",
       "    .dataframe tbody tr th:only-of-type {\n",
       "        vertical-align: middle;\n",
       "    }\n",
       "\n",
       "    .dataframe tbody tr th {\n",
       "        vertical-align: top;\n",
       "    }\n",
       "\n",
       "    .dataframe thead th {\n",
       "        text-align: right;\n",
       "    }\n",
       "</style>\n",
       "<table border=\"1\" class=\"dataframe\">\n",
       "  <thead>\n",
       "    <tr style=\"text-align: right;\">\n",
       "      <th></th>\n",
       "      <th>Bearer Id</th>\n",
       "      <th>Start</th>\n",
       "      <th>Start ms</th>\n",
       "      <th>End</th>\n",
       "      <th>End ms</th>\n",
       "      <th>Dur. (ms)</th>\n",
       "      <th>IMSI</th>\n",
       "      <th>MSISDN/Number</th>\n",
       "      <th>IMEI</th>\n",
       "      <th>Last Location Name</th>\n",
       "      <th>...</th>\n",
       "      <th>Youtube DL (Bytes)</th>\n",
       "      <th>Youtube UL (Bytes)</th>\n",
       "      <th>Netflix DL (Bytes)</th>\n",
       "      <th>Netflix UL (Bytes)</th>\n",
       "      <th>Gaming DL (Bytes)</th>\n",
       "      <th>Gaming UL (Bytes)</th>\n",
       "      <th>Other DL (Bytes)</th>\n",
       "      <th>Other UL (Bytes)</th>\n",
       "      <th>Total UL (Bytes)</th>\n",
       "      <th>Total DL (Bytes)</th>\n",
       "    </tr>\n",
       "  </thead>\n",
       "  <tbody>\n",
       "    <tr>\n",
       "      <th>0</th>\n",
       "      <td>1.311448e+19</td>\n",
       "      <td>4/4/2019 12:01</td>\n",
       "      <td>770.0</td>\n",
       "      <td>4/25/2019 14:35</td>\n",
       "      <td>662.0</td>\n",
       "      <td>1823652.0</td>\n",
       "      <td>2.082014e+14</td>\n",
       "      <td>3.366496e+10</td>\n",
       "      <td>3.552121e+13</td>\n",
       "      <td>9.16456699548519E+015</td>\n",
       "      <td>...</td>\n",
       "      <td>15854611.0</td>\n",
       "      <td>2501332.0</td>\n",
       "      <td>8198936.0</td>\n",
       "      <td>9656251.0</td>\n",
       "      <td>278082303.0</td>\n",
       "      <td>14344150.0</td>\n",
       "      <td>171744450.0</td>\n",
       "      <td>8814393.0</td>\n",
       "      <td>36749741.0</td>\n",
       "      <td>308879636.0</td>\n",
       "    </tr>\n",
       "    <tr>\n",
       "      <th>1</th>\n",
       "      <td>1.311448e+19</td>\n",
       "      <td>4/9/2019 13:04</td>\n",
       "      <td>235.0</td>\n",
       "      <td>4/25/2019 8:15</td>\n",
       "      <td>606.0</td>\n",
       "      <td>1365104.0</td>\n",
       "      <td>2.082019e+14</td>\n",
       "      <td>3.368185e+10</td>\n",
       "      <td>3.579401e+13</td>\n",
       "      <td>L77566A</td>\n",
       "      <td>...</td>\n",
       "      <td>20247395.0</td>\n",
       "      <td>19111729.0</td>\n",
       "      <td>18338413.0</td>\n",
       "      <td>17227132.0</td>\n",
       "      <td>608750074.0</td>\n",
       "      <td>1170709.0</td>\n",
       "      <td>526904238.0</td>\n",
       "      <td>15055145.0</td>\n",
       "      <td>53800391.0</td>\n",
       "      <td>653384965.0</td>\n",
       "    </tr>\n",
       "    <tr>\n",
       "      <th>2</th>\n",
       "      <td>1.311448e+19</td>\n",
       "      <td>4/9/2019 17:42</td>\n",
       "      <td>1.0</td>\n",
       "      <td>4/25/2019 11:58</td>\n",
       "      <td>652.0</td>\n",
       "      <td>1361762.0</td>\n",
       "      <td>2.082003e+14</td>\n",
       "      <td>3.376063e+10</td>\n",
       "      <td>3.528151e+13</td>\n",
       "      <td>D42335A</td>\n",
       "      <td>...</td>\n",
       "      <td>19725661.0</td>\n",
       "      <td>14699576.0</td>\n",
       "      <td>17587794.0</td>\n",
       "      <td>6163408.0</td>\n",
       "      <td>229584621.0</td>\n",
       "      <td>395630.0</td>\n",
       "      <td>410692588.0</td>\n",
       "      <td>4215763.0</td>\n",
       "      <td>27883638.0</td>\n",
       "      <td>279807335.0</td>\n",
       "    </tr>\n",
       "    <tr>\n",
       "      <th>3</th>\n",
       "      <td>1.311448e+19</td>\n",
       "      <td>4/10/2019 0:31</td>\n",
       "      <td>486.0</td>\n",
       "      <td>4/25/2019 7:36</td>\n",
       "      <td>171.0</td>\n",
       "      <td>1321509.0</td>\n",
       "      <td>2.082014e+14</td>\n",
       "      <td>3.375034e+10</td>\n",
       "      <td>3.535661e+13</td>\n",
       "      <td>T21824A</td>\n",
       "      <td>...</td>\n",
       "      <td>21388122.0</td>\n",
       "      <td>15146643.0</td>\n",
       "      <td>13994646.0</td>\n",
       "      <td>1097942.0</td>\n",
       "      <td>799538153.0</td>\n",
       "      <td>10849722.0</td>\n",
       "      <td>749039933.0</td>\n",
       "      <td>12797283.0</td>\n",
       "      <td>43324218.0</td>\n",
       "      <td>846028530.0</td>\n",
       "    </tr>\n",
       "    <tr>\n",
       "      <th>4</th>\n",
       "      <td>1.311448e+19</td>\n",
       "      <td>4/12/2019 20:10</td>\n",
       "      <td>565.0</td>\n",
       "      <td>4/25/2019 10:40</td>\n",
       "      <td>954.0</td>\n",
       "      <td>1089009.0</td>\n",
       "      <td>2.082014e+14</td>\n",
       "      <td>3.369980e+10</td>\n",
       "      <td>3.540701e+13</td>\n",
       "      <td>D88865A</td>\n",
       "      <td>...</td>\n",
       "      <td>15259380.0</td>\n",
       "      <td>18962873.0</td>\n",
       "      <td>17124581.0</td>\n",
       "      <td>415218.0</td>\n",
       "      <td>527707248.0</td>\n",
       "      <td>3529801.0</td>\n",
       "      <td>550709500.0</td>\n",
       "      <td>13910322.0</td>\n",
       "      <td>38542814.0</td>\n",
       "      <td>569138589.0</td>\n",
       "    </tr>\n",
       "  </tbody>\n",
       "</table>\n",
       "<p>5 rows × 55 columns</p>\n",
       "</div>"
      ],
      "text/plain": [
       "      Bearer Id            Start  Start ms              End  End ms  \\\n",
       "0  1.311448e+19   4/4/2019 12:01     770.0  4/25/2019 14:35   662.0   \n",
       "1  1.311448e+19   4/9/2019 13:04     235.0   4/25/2019 8:15   606.0   \n",
       "2  1.311448e+19   4/9/2019 17:42       1.0  4/25/2019 11:58   652.0   \n",
       "3  1.311448e+19   4/10/2019 0:31     486.0   4/25/2019 7:36   171.0   \n",
       "4  1.311448e+19  4/12/2019 20:10     565.0  4/25/2019 10:40   954.0   \n",
       "\n",
       "   Dur. (ms)          IMSI  MSISDN/Number          IMEI  \\\n",
       "0  1823652.0  2.082014e+14   3.366496e+10  3.552121e+13   \n",
       "1  1365104.0  2.082019e+14   3.368185e+10  3.579401e+13   \n",
       "2  1361762.0  2.082003e+14   3.376063e+10  3.528151e+13   \n",
       "3  1321509.0  2.082014e+14   3.375034e+10  3.535661e+13   \n",
       "4  1089009.0  2.082014e+14   3.369980e+10  3.540701e+13   \n",
       "\n",
       "      Last Location Name  ...  Youtube DL (Bytes)  Youtube UL (Bytes)  \\\n",
       "0  9.16456699548519E+015  ...          15854611.0           2501332.0   \n",
       "1                L77566A  ...          20247395.0          19111729.0   \n",
       "2                D42335A  ...          19725661.0          14699576.0   \n",
       "3                T21824A  ...          21388122.0          15146643.0   \n",
       "4                D88865A  ...          15259380.0          18962873.0   \n",
       "\n",
       "   Netflix DL (Bytes)  Netflix UL (Bytes) Gaming DL (Bytes) Gaming UL (Bytes)  \\\n",
       "0           8198936.0           9656251.0       278082303.0        14344150.0   \n",
       "1          18338413.0          17227132.0       608750074.0         1170709.0   \n",
       "2          17587794.0           6163408.0       229584621.0          395630.0   \n",
       "3          13994646.0           1097942.0       799538153.0        10849722.0   \n",
       "4          17124581.0            415218.0       527707248.0         3529801.0   \n",
       "\n",
       "   Other DL (Bytes)  Other UL (Bytes)  Total UL (Bytes)  Total DL (Bytes)  \n",
       "0       171744450.0         8814393.0        36749741.0       308879636.0  \n",
       "1       526904238.0        15055145.0        53800391.0       653384965.0  \n",
       "2       410692588.0         4215763.0        27883638.0       279807335.0  \n",
       "3       749039933.0        12797283.0        43324218.0       846028530.0  \n",
       "4       550709500.0        13910322.0        38542814.0       569138589.0  \n",
       "\n",
       "[5 rows x 55 columns]"
      ]
     },
     "execution_count": 54,
     "metadata": {},
     "output_type": "execute_result"
    }
   ],
   "source": [
    "df.head()"
   ]
  },
  {
   "cell_type": "code",
   "execution_count": 55,
   "metadata": {},
   "outputs": [
    {
     "data": {
      "text/plain": [
       "count    5.000000e+00\n",
       "mean     4.006016e+07\n",
       "std      9.499696e+06\n",
       "min      2.788364e+07\n",
       "25%      3.674974e+07\n",
       "50%      3.854281e+07\n",
       "75%      4.332422e+07\n",
       "max      5.380039e+07\n",
       "Name: Total UL (Bytes), dtype: float64"
      ]
     },
     "execution_count": 55,
     "metadata": {},
     "output_type": "execute_result"
    }
   ],
   "source": [
    "df['Total UL (Bytes)'].describe()"
   ]
  },
  {
   "cell_type": "code",
   "execution_count": 56,
   "metadata": {},
   "outputs": [],
   "source": [
    "# how many missing values exist or better still what is the % of missing values in the dataset?\n",
    "def percent_missing(df):\n",
    "\n",
    "    # Calculate total number of cells in dataframe\n",
    "    totalCells = np.product(df.shape)\n",
    "\n",
    "    # Count number of missing values per column\n",
    "    missingCount = df.isnull().sum()\n",
    "\n",
    "    # Calculate total number of missing values\n",
    "    totalMissing = missingCount.sum()\n",
    "\n",
    "    # Calculate percentage of missing values\n",
    "    print(\"The dataset contains\", round(((totalMissing/totalCells) * 100), 2), \"%\", \"missing values.\")"
   ]
  },
  {
   "cell_type": "code",
   "execution_count": 57,
   "metadata": {},
   "outputs": [
    {
     "name": "stdout",
     "output_type": "stream",
     "text": [
      "The dataset contains 20.36 % missing values.\n"
     ]
    }
   ],
   "source": [
    "# percent missing of total data\n",
    "percent_missing(df)"
   ]
  },
  {
   "cell_type": "code",
   "execution_count": 58,
   "metadata": {},
   "outputs": [
    {
     "data": {
      "text/plain": [
       "Bearer Id                                   0\n",
       "Start                                       0\n",
       "Start ms                                    0\n",
       "End                                         0\n",
       "End ms                                      0\n",
       "Dur. (ms)                                   0\n",
       "IMSI                                        0\n",
       "MSISDN/Number                               0\n",
       "IMEI                                        0\n",
       "Last Location Name                          0\n",
       "Avg RTT DL (ms)                             3\n",
       "Avg RTT UL (ms)                             3\n",
       "Avg Bearer TP DL (kbps)                     0\n",
       "Avg Bearer TP UL (kbps)                     0\n",
       "TCP DL Retrans. Vol (Bytes)                 5\n",
       "TCP UL Retrans. Vol (Bytes)                 5\n",
       "DL TP < 50 Kbps (%)                         0\n",
       "50 Kbps < DL TP < 250 Kbps (%)              0\n",
       "250 Kbps < DL TP < 1 Mbps (%)               0\n",
       "DL TP > 1 Mbps (%)                          0\n",
       "UL TP < 10 Kbps (%)                         0\n",
       "10 Kbps < UL TP < 50 Kbps (%)               0\n",
       "50 Kbps < UL TP < 300 Kbps (%)              0\n",
       "UL TP > 300 Kbps (%)                        0\n",
       "HTTP DL (Bytes)                             5\n",
       "HTTP UL (Bytes)                             5\n",
       "Activity Duration DL (ms)                   0\n",
       "Activity Duration UL (ms)                   0\n",
       "Dur. (ms).1                                 0\n",
       "Handset Manufacturer                        0\n",
       "Handset Type                                0\n",
       "Nb of sec with 125000B < Vol DL             5\n",
       "Nb of sec with 1250B < Vol UL < 6250B       5\n",
       "Nb of sec with 31250B < Vol DL < 125000B    5\n",
       "Nb of sec with 37500B < Vol UL              5\n",
       "Nb of sec with 6250B < Vol DL < 31250B      5\n",
       "Nb of sec with 6250B < Vol UL < 37500B      5\n",
       "Nb of sec with Vol DL < 6250B               0\n",
       "Nb of sec with Vol UL < 1250B               0\n",
       "Social Media DL (Bytes)                     0\n",
       "Social Media UL (Bytes)                     0\n",
       "Google DL (Bytes)                           0\n",
       "Google UL (Bytes)                           0\n",
       "Email DL (Bytes)                            0\n",
       "Email UL (Bytes)                            0\n",
       "Youtube DL (Bytes)                          0\n",
       "Youtube UL (Bytes)                          0\n",
       "Netflix DL (Bytes)                          0\n",
       "Netflix UL (Bytes)                          0\n",
       "Gaming DL (Bytes)                           0\n",
       "Gaming UL (Bytes)                           0\n",
       "Other DL (Bytes)                            0\n",
       "Other UL (Bytes)                            0\n",
       "Total UL (Bytes)                            0\n",
       "Total DL (Bytes)                            0\n",
       "dtype: int64"
      ]
     },
     "execution_count": 58,
     "metadata": {},
     "output_type": "execute_result"
    }
   ],
   "source": [
    "# Now which column(s) has missing values\n",
    "df.isna().sum()\n"
   ]
  },
  {
   "cell_type": "code",
   "execution_count": 59,
   "metadata": {},
   "outputs": [
    {
     "name": "stdout",
     "output_type": "stream",
     "text": [
      "The dataset contains 100.0 % missing values.\n"
     ]
    }
   ],
   "source": [
    "percent_missing(df['TCP UL Retrans. Vol (Bytes)'])"
   ]
  },
  {
   "cell_type": "code",
   "execution_count": 60,
   "metadata": {},
   "outputs": [
    {
     "name": "stdout",
     "output_type": "stream",
     "text": [
      "The dataset contains 100.0 % missing values.\n"
     ]
    }
   ],
   "source": [
    "percent_missing(df['HTTP DL (Bytes)'])"
   ]
  },
  {
   "cell_type": "code",
   "execution_count": 61,
   "metadata": {},
   "outputs": [
    {
     "name": "stdout",
     "output_type": "stream",
     "text": [
      "The dataset contains 100.0 % missing values.\n"
     ]
    }
   ],
   "source": [
    "percent_missing(df['HTTP DL (Bytes)'])"
   ]
  },
  {
   "cell_type": "code",
   "execution_count": 62,
   "metadata": {},
   "outputs": [
    {
     "data": {
      "text/plain": [
       "<Axes: >"
      ]
     },
     "execution_count": 62,
     "metadata": {},
     "output_type": "execute_result"
    },
    {
     "data": {
      "image/png": "[encoded data removed]",
      "text/plain": [
       "<Figure size 640x480 with 1 Axes>"
      ]
     },
     "metadata": {},
     "output_type": "display_data"
    }
   ],
   "source": [
    "df['Dur. (ms)'].hist()"
   ]
  },
  {
   "cell_type": "code",
   "execution_count": 65,
   "metadata": {},
   "outputs": [
    {
     "data": {
      "text/plain": [
       "<seaborn.axisgrid.FacetGrid at 0x7f7bd16af0a0>"
      ]
     },
     "execution_count": 65,
     "metadata": {},
     "output_type": "execute_result"
    },
    {
     "data": {
      "image/png": "[encoded data removed]",
      "text/plain": [
       "<Figure size 500x500 with 1 Axes>"
      ]
     },
     "metadata": {},
     "output_type": "display_data"
    }
   ],
   "source": [
    "import seaborn as sns\n",
    "sns.displot(data=df, x=df['Dur. (ms)'])"
   ]
  },
  {
   "cell_type": "code",
   "execution_count": 66,
   "metadata": {},
   "outputs": [
    {
     "data": {
      "text/plain": [
       "Bearer Id                                   0\n",
       "Start                                       0\n",
       "Start ms                                    0\n",
       "End                                         0\n",
       "End ms                                      0\n",
       "Dur. (ms)                                   0\n",
       "IMSI                                        0\n",
       "MSISDN/Number                               0\n",
       "IMEI                                        0\n",
       "Last Location Name                          0\n",
       "Avg RTT DL (ms)                             3\n",
       "Avg RTT UL (ms)                             3\n",
       "Avg Bearer TP DL (kbps)                     0\n",
       "Avg Bearer TP UL (kbps)                     0\n",
       "TCP DL Retrans. Vol (Bytes)                 5\n",
       "TCP UL Retrans. Vol (Bytes)                 5\n",
       "DL TP < 50 Kbps (%)                         0\n",
       "50 Kbps < DL TP < 250 Kbps (%)              0\n",
       "250 Kbps < DL TP < 1 Mbps (%)               0\n",
       "DL TP > 1 Mbps (%)                          0\n",
       "UL TP < 10 Kbps (%)                         0\n",
       "10 Kbps < UL TP < 50 Kbps (%)               0\n",
       "50 Kbps < UL TP < 300 Kbps (%)              0\n",
       "UL TP > 300 Kbps (%)                        0\n",
       "HTTP DL (Bytes)                             5\n",
       "HTTP UL (Bytes)                             5\n",
       "Activity Duration DL (ms)                   0\n",
       "Activity Duration UL (ms)                   0\n",
       "Dur. (ms).1                                 0\n",
       "Handset Manufacturer                        0\n",
       "Handset Type                                0\n",
       "Nb of sec with 125000B < Vol DL             5\n",
       "Nb of sec with 1250B < Vol UL < 6250B       5\n",
       "Nb of sec with 31250B < Vol DL < 125000B    5\n",
       "Nb of sec with 37500B < Vol UL              5\n",
       "Nb of sec with 6250B < Vol DL < 31250B      5\n",
       "Nb of sec with 6250B < Vol UL < 37500B      5\n",
       "Nb of sec with Vol DL < 6250B               0\n",
       "Nb of sec with Vol UL < 1250B               0\n",
       "Social Media DL (Bytes)                     0\n",
       "Social Media UL (Bytes)                     0\n",
       "Google DL (Bytes)                           0\n",
       "Google UL (Bytes)                           0\n",
       "Email DL (Bytes)                            0\n",
       "Email UL (Bytes)                            0\n",
       "Youtube DL (Bytes)                          0\n",
       "Youtube UL (Bytes)                          0\n",
       "Netflix DL (Bytes)                          0\n",
       "Netflix UL (Bytes)                          0\n",
       "Gaming DL (Bytes)                           0\n",
       "Gaming UL (Bytes)                           0\n",
       "Other DL (Bytes)                            0\n",
       "Other UL (Bytes)                            0\n",
       "Total UL (Bytes)                            0\n",
       "Total DL (Bytes)                            0\n",
       "dtype: int64"
      ]
     },
     "execution_count": 66,
     "metadata": {},
     "output_type": "execute_result"
    }
   ],
   "source": [
    "df.isna().sum()"
   ]
  },
  {
   "cell_type": "code",
   "execution_count": 71,
   "metadata": {},
   "outputs": [
    {
     "data": {
      "text/plain": [
       "(5, 49)"
      ]
     },
     "execution_count": 71,
     "metadata": {},
     "output_type": "execute_result"
    }
   ],
   "source": [
    "# 1. drop columns with more than 30% missing values\n",
    "df_clean = df.drop(['TCP DL Retrans. Vol (Bytes)', 'HTTP DL (Bytes)', 'TCP UL Retrans. Vol (Bytes)', 'Nb of sec with 37500B < Vol UL', 'Nb of sec with 125000B < Vol DL', 'HTTP UL (Bytes)'], axis=1)\n",
    "df_clean.shape"
   ]
  },
  {
   "cell_type": "code",
   "execution_count": 72,
   "metadata": {},
   "outputs": [
    {
     "data": {
      "text/plain": [
       "Bearer Id                                   0\n",
       "Start                                       0\n",
       "Start ms                                    0\n",
       "End                                         0\n",
       "End ms                                      0\n",
       "Dur. (ms)                                   0\n",
       "IMSI                                        0\n",
       "MSISDN/Number                               0\n",
       "IMEI                                        0\n",
       "Last Location Name                          0\n",
       "Avg RTT DL (ms)                             3\n",
       "Avg RTT UL (ms)                             3\n",
       "Avg Bearer TP DL (kbps)                     0\n",
       "Avg Bearer TP UL (kbps)                     0\n",
       "DL TP < 50 Kbps (%)                         0\n",
       "50 Kbps < DL TP < 250 Kbps (%)              0\n",
       "250 Kbps < DL TP < 1 Mbps (%)               0\n",
       "DL TP > 1 Mbps (%)                          0\n",
       "UL TP < 10 Kbps (%)                         0\n",
       "10 Kbps < UL TP < 50 Kbps (%)               0\n",
       "50 Kbps < UL TP < 300 Kbps (%)              0\n",
       "UL TP > 300 Kbps (%)                        0\n",
       "Activity Duration DL (ms)                   0\n",
       "Activity Duration UL (ms)                   0\n",
       "Dur. (ms).1                                 0\n",
       "Handset Manufacturer                        0\n",
       "Handset Type                                0\n",
       "Nb of sec with 1250B < Vol UL < 6250B       5\n",
       "Nb of sec with 31250B < Vol DL < 125000B    5\n",
       "Nb of sec with 6250B < Vol DL < 31250B      5\n",
       "Nb of sec with 6250B < Vol UL < 37500B      5\n",
       "Nb of sec with Vol DL < 6250B               0\n",
       "Nb of sec with Vol UL < 1250B               0\n",
       "Social Media DL (Bytes)                     0\n",
       "Social Media UL (Bytes)                     0\n",
       "Google DL (Bytes)                           0\n",
       "Google UL (Bytes)                           0\n",
       "Email DL (Bytes)                            0\n",
       "Email UL (Bytes)                            0\n",
       "Youtube DL (Bytes)                          0\n",
       "Youtube UL (Bytes)                          0\n",
       "Netflix DL (Bytes)                          0\n",
       "Netflix UL (Bytes)                          0\n",
       "Gaming DL (Bytes)                           0\n",
       "Gaming UL (Bytes)                           0\n",
       "Other DL (Bytes)                            0\n",
       "Other UL (Bytes)                            0\n",
       "Total UL (Bytes)                            0\n",
       "Total DL (Bytes)                            0\n",
       "dtype: int64"
      ]
     },
     "execution_count": 72,
     "metadata": {},
     "output_type": "execute_result"
    }
   ],
   "source": [
    "df_clean.isna().sum()"
   ]
  },
  {
   "cell_type": "code",
   "execution_count": 77,
   "metadata": {},
   "outputs": [
    {
     "ename": "KeyError",
     "evalue": "('Avg RTT DL (ms)', 'Avg RTT UL (ms)')",
     "output_type": "error",
     "traceback": [
      "\u001b[0;31m---------------------------------------------------------------------------\u001b[0m",
      "\u001b[0;31mKeyError\u001b[0m                                  Traceback (most recent call last)",
      "File \u001b[0;32m~/Desktop/10Academy/week-1/data/my_env/lib/python3.10/site-packages/pandas/core/indexes/base.py:3791\u001b[0m, in \u001b[0;36mIndex.get_loc\u001b[0;34m(self, key)\u001b[0m\n\u001b[1;32m   3790\u001b[0m \u001b[38;5;28;01mtry\u001b[39;00m:\n\u001b[0;32m-> 3791\u001b[0m     \u001b[38;5;28;01mreturn\u001b[39;00m \u001b[38;5;28;43mself\u001b[39;49m\u001b[38;5;241;43m.\u001b[39;49m\u001b[43m_engine\u001b[49m\u001b[38;5;241;43m.\u001b[39;49m\u001b[43mget_loc\u001b[49m\u001b[43m(\u001b[49m\u001b[43mcasted_key\u001b[49m\u001b[43m)\u001b[49m\n\u001b[1;32m   3792\u001b[0m \u001b[38;5;28;01mexcept\u001b[39;00m \u001b[38;5;167;01mKeyError\u001b[39;00m \u001b[38;5;28;01mas\u001b[39;00m err:\n",
      "File \u001b[0;32mindex.pyx:152\u001b[0m, in \u001b[0;36mpandas._libs.index.IndexEngine.get_loc\u001b[0;34m()\u001b[0m\n",
      "File \u001b[0;32mindex.pyx:181\u001b[0m, in \u001b[0;36mpandas._libs.index.IndexEngine.get_loc\u001b[0;34m()\u001b[0m\n",
      "File \u001b[0;32mpandas/_libs/hashtable_class_helper.pxi:7080\u001b[0m, in \u001b[0;36mpandas._libs.hashtable.PyObjectHashTable.get_item\u001b[0;34m()\u001b[0m\n",
      "File \u001b[0;32mpandas/_libs/hashtable_class_helper.pxi:7088\u001b[0m, in \u001b[0;36mpandas._libs.hashtable.PyObjectHashTable.get_item\u001b[0;34m()\u001b[0m\n",
      "\u001b[0;31mKeyError\u001b[0m: ('Avg RTT DL (ms)', 'Avg RTT UL (ms)')",
      "\nThe above exception was the direct cause of the following exception:\n",
      "\u001b[0;31mKeyError\u001b[0m                                  Traceback (most recent call last)",
      "Cell \u001b[0;32mIn[77], line 1\u001b[0m\n\u001b[0;32m----> 1\u001b[0m \u001b[43mdf_clean\u001b[49m\u001b[43m[\u001b[49m\u001b[38;5;124;43m'\u001b[39;49m\u001b[38;5;124;43mAvg RTT DL (ms)\u001b[39;49m\u001b[38;5;124;43m'\u001b[39;49m\u001b[43m,\u001b[49m\u001b[43m \u001b[49m\u001b[38;5;124;43m'\u001b[39;49m\u001b[38;5;124;43mAvg RTT UL (ms)\u001b[39;49m\u001b[38;5;124;43m'\u001b[39;49m\u001b[43m]\u001b[49m\u001b[38;5;241m.\u001b[39munique()\n",
      "File \u001b[0;32m~/Desktop/10Academy/week-1/data/my_env/lib/python3.10/site-packages/pandas/core/frame.py:3893\u001b[0m, in \u001b[0;36mDataFrame.__getitem__\u001b[0;34m(self, key)\u001b[0m\n\u001b[1;32m   3891\u001b[0m \u001b[38;5;28;01mif\u001b[39;00m \u001b[38;5;28mself\u001b[39m\u001b[38;5;241m.\u001b[39mcolumns\u001b[38;5;241m.\u001b[39mnlevels \u001b[38;5;241m>\u001b[39m \u001b[38;5;241m1\u001b[39m:\n\u001b[1;32m   3892\u001b[0m     \u001b[38;5;28;01mreturn\u001b[39;00m \u001b[38;5;28mself\u001b[39m\u001b[38;5;241m.\u001b[39m_getitem_multilevel(key)\n\u001b[0;32m-> 3893\u001b[0m indexer \u001b[38;5;241m=\u001b[39m \u001b[38;5;28;43mself\u001b[39;49m\u001b[38;5;241;43m.\u001b[39;49m\u001b[43mcolumns\u001b[49m\u001b[38;5;241;43m.\u001b[39;49m\u001b[43mget_loc\u001b[49m\u001b[43m(\u001b[49m\u001b[43mkey\u001b[49m\u001b[43m)\u001b[49m\n\u001b[1;32m   3894\u001b[0m \u001b[38;5;28;01mif\u001b[39;00m is_integer(indexer):\n\u001b[1;32m   3895\u001b[0m     indexer \u001b[38;5;241m=\u001b[39m [indexer]\n",
      "File \u001b[0;32m~/Desktop/10Academy/week-1/data/my_env/lib/python3.10/site-packages/pandas/core/indexes/base.py:3798\u001b[0m, in \u001b[0;36mIndex.get_loc\u001b[0;34m(self, key)\u001b[0m\n\u001b[1;32m   3793\u001b[0m     \u001b[38;5;28;01mif\u001b[39;00m \u001b[38;5;28misinstance\u001b[39m(casted_key, \u001b[38;5;28mslice\u001b[39m) \u001b[38;5;129;01mor\u001b[39;00m (\n\u001b[1;32m   3794\u001b[0m         \u001b[38;5;28misinstance\u001b[39m(casted_key, abc\u001b[38;5;241m.\u001b[39mIterable)\n\u001b[1;32m   3795\u001b[0m         \u001b[38;5;129;01mand\u001b[39;00m \u001b[38;5;28many\u001b[39m(\u001b[38;5;28misinstance\u001b[39m(x, \u001b[38;5;28mslice\u001b[39m) \u001b[38;5;28;01mfor\u001b[39;00m x \u001b[38;5;129;01min\u001b[39;00m casted_key)\n\u001b[1;32m   3796\u001b[0m     ):\n\u001b[1;32m   3797\u001b[0m         \u001b[38;5;28;01mraise\u001b[39;00m InvalidIndexError(key)\n\u001b[0;32m-> 3798\u001b[0m     \u001b[38;5;28;01mraise\u001b[39;00m \u001b[38;5;167;01mKeyError\u001b[39;00m(key) \u001b[38;5;28;01mfrom\u001b[39;00m \u001b[38;5;21;01merr\u001b[39;00m\n\u001b[1;32m   3799\u001b[0m \u001b[38;5;28;01mexcept\u001b[39;00m \u001b[38;5;167;01mTypeError\u001b[39;00m:\n\u001b[1;32m   3800\u001b[0m     \u001b[38;5;66;03m# If we have a listlike key, _check_indexing_error will raise\u001b[39;00m\n\u001b[1;32m   3801\u001b[0m     \u001b[38;5;66;03m#  InvalidIndexError. Otherwise we fall through and re-raise\u001b[39;00m\n\u001b[1;32m   3802\u001b[0m     \u001b[38;5;66;03m#  the TypeError.\u001b[39;00m\n\u001b[1;32m   3803\u001b[0m     \u001b[38;5;28mself\u001b[39m\u001b[38;5;241m.\u001b[39m_check_indexing_error(key)\n",
      "\u001b[0;31mKeyError\u001b[0m: ('Avg RTT DL (ms)', 'Avg RTT UL (ms)')"
     ]
    }
   ],
   "source": []
  }
 ],
 "metadata": {
  "kernelspec": {
   "display_name": "my_env",
   "language": "python",
   "name": "python3"
  },
  "language_info": {
   "codemirror_mode": {
    "name": "ipython",
    "version": 3
   },
   "file_extension": ".py",
   "mimetype": "text/x-python",
   "name": "python",
   "nbconvert_exporter": "python",
   "pygments_lexer": "ipython3",
   "version": "3.10.12"
  }
 },
 "nbformat": 4,
 "nbformat_minor": 2
}
